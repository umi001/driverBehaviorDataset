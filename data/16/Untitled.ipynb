{
 "cells": [
  {
   "cell_type": "code",
   "execution_count": 7,
   "metadata": {},
   "outputs": [],
   "source": [
    "import pandas as pd\n",
    "import numpy as np"
   ]
  },
  {
   "cell_type": "code",
   "execution_count": 64,
   "metadata": {},
   "outputs": [
    {
     "data": {
      "text/plain": [
       "0                    0\n",
       "1              9858081\n",
       "2             19624600\n",
       "3             39279720\n",
       "4             58934840\n",
       "5             78895163\n",
       "6             98550282\n",
       "7            118205402\n",
       "8            137799482\n",
       "9            157454602\n",
       "10           177079201\n",
       "11           196734321\n",
       "12           216389440\n",
       "13           236014040\n",
       "14           255608118\n",
       "15           275232718\n",
       "16           294887838\n",
       "17           314573479\n",
       "18           334167558\n",
       "19           353822677\n",
       "20           373447277\n",
       "21           393804365\n",
       "22           412665954\n",
       "23           431954830\n",
       "24           451579430\n",
       "25           471204029\n",
       "26           490859148\n",
       "27           510483748\n",
       "28           530169389\n",
       "29           549793988\n",
       "             ...      \n",
       "64615    1268511155048\n",
       "64616    1268530504964\n",
       "64617    1268550068523\n",
       "64618    1268570730815\n",
       "64619    1268589439803\n",
       "64620    1268609003361\n",
       "64621    1268628627961\n",
       "64622    1268648252560\n",
       "64623    1268667877160\n",
       "64624    1268687532279\n",
       "64625    1268707187399\n",
       "64626    1268726812000\n",
       "64627    1268746375558\n",
       "64628    1268766061198\n",
       "64629    1268785685797\n",
       "64630    1268805310396\n",
       "64631    1268824934996\n",
       "64632    1268844590116\n",
       "64633    1268864214715\n",
       "64634    1268883839314\n",
       "64635    1268903494434\n",
       "64636    1268923515798\n",
       "64637    1268943109878\n",
       "64638    1268962734477\n",
       "64639    1268982328556\n",
       "64640    1269001983675\n",
       "64641    1269021608275\n",
       "64642    1269041202355\n",
       "64643    1269060796434\n",
       "64644    1269080573635\n",
       "Name: uptimeNanos, Length: 64645, dtype: int64"
      ]
     },
     "execution_count": 64,
     "metadata": {},
     "output_type": "execute_result"
    }
   ],
   "source": [
    "raw_data=pd.read_csv(\"aceleracaoLinear_terra.csv\",sep=\",\")\n",
    "n=len(raw_data.axes[0])   #finding no of readings\n",
    "raw_data.describe()"
   ]
  },
  {
   "cell_type": "code",
   "execution_count": 32,
   "metadata": {},
   "outputs": [
    {
     "data": {
      "text/html": [
       "<div>\n",
       "<style scoped>\n",
       "    .dataframe tbody tr th:only-of-type {\n",
       "        vertical-align: middle;\n",
       "    }\n",
       "\n",
       "    .dataframe tbody tr th {\n",
       "        vertical-align: top;\n",
       "    }\n",
       "\n",
       "    .dataframe thead th {\n",
       "        text-align: right;\n",
       "    }\n",
       "</style>\n",
       "<table border=\"1\" class=\"dataframe\">\n",
       "  <thead>\n",
       "    <tr style=\"text-align: right;\">\n",
       "      <th></th>\n",
       "      <th>uptimeNanos</th>\n",
       "      <th>x</th>\n",
       "      <th>y</th>\n",
       "      <th>z</th>\n",
       "    </tr>\n",
       "  </thead>\n",
       "  <tbody>\n",
       "    <tr>\n",
       "      <th>count</th>\n",
       "      <td>6.464500e+04</td>\n",
       "      <td>64645.000000</td>\n",
       "      <td>64645.000000</td>\n",
       "      <td>64645.000000</td>\n",
       "    </tr>\n",
       "    <tr>\n",
       "      <th>mean</th>\n",
       "      <td>1.217219e+13</td>\n",
       "      <td>0.001441</td>\n",
       "      <td>-0.005214</td>\n",
       "      <td>-0.081292</td>\n",
       "    </tr>\n",
       "    <tr>\n",
       "      <th>std</th>\n",
       "      <td>3.663693e+11</td>\n",
       "      <td>0.863282</td>\n",
       "      <td>0.838432</td>\n",
       "      <td>0.536945</td>\n",
       "    </tr>\n",
       "    <tr>\n",
       "      <th>min</th>\n",
       "      <td>1.153764e+13</td>\n",
       "      <td>-6.821630</td>\n",
       "      <td>-6.210632</td>\n",
       "      <td>-5.677019</td>\n",
       "    </tr>\n",
       "    <tr>\n",
       "      <th>25%</th>\n",
       "      <td>1.185490e+13</td>\n",
       "      <td>-0.458187</td>\n",
       "      <td>-0.450720</td>\n",
       "      <td>-0.318134</td>\n",
       "    </tr>\n",
       "    <tr>\n",
       "      <th>50%</th>\n",
       "      <td>1.217220e+13</td>\n",
       "      <td>-0.014632</td>\n",
       "      <td>-0.000370</td>\n",
       "      <td>-0.095094</td>\n",
       "    </tr>\n",
       "    <tr>\n",
       "      <th>75%</th>\n",
       "      <td>1.248947e+13</td>\n",
       "      <td>0.430904</td>\n",
       "      <td>0.456551</td>\n",
       "      <td>0.135446</td>\n",
       "    </tr>\n",
       "    <tr>\n",
       "      <th>max</th>\n",
       "      <td>1.280672e+13</td>\n",
       "      <td>7.366034</td>\n",
       "      <td>6.332817</td>\n",
       "      <td>10.306388</td>\n",
       "    </tr>\n",
       "  </tbody>\n",
       "</table>\n",
       "</div>"
      ],
      "text/plain": [
       "        uptimeNanos             x             y             z\n",
       "count  6.464500e+04  64645.000000  64645.000000  64645.000000\n",
       "mean   1.217219e+13      0.001441     -0.005214     -0.081292\n",
       "std    3.663693e+11      0.863282      0.838432      0.536945\n",
       "min    1.153764e+13     -6.821630     -6.210632     -5.677019\n",
       "25%    1.185490e+13     -0.458187     -0.450720     -0.318134\n",
       "50%    1.217220e+13     -0.014632     -0.000370     -0.095094\n",
       "75%    1.248947e+13      0.430904      0.456551      0.135446\n",
       "max    1.280672e+13      7.366034      6.332817     10.306388"
      ]
     },
     "execution_count": 32,
     "metadata": {},
     "output_type": "execute_result"
    }
   ],
   "source": [
    "time=raw_data['uptimeNanos']-raw_data['uptimeNanos'][0]   #Setting the reference time for the observation with respect to the first received observation.. \n",
    "time"
   ]
  },
  {
   "cell_type": "code",
   "execution_count": 44,
   "metadata": {},
   "outputs": [],
   "source": []
  },
  {
   "cell_type": "code",
   "execution_count": 72,
   "metadata": {},
   "outputs": [
    {
     "data": {
      "text/plain": [
       "False"
      ]
     },
     "execution_count": 72,
     "metadata": {},
     "output_type": "execute_result"
    }
   ],
   "source": [
    "#Working on the groundTruth dataset\n",
    "ground_truth=pd.read_csv(\"groundTruth.csv\",sep=\",\") #reading the ground truth csv file\n",
    "#ground_truth.head()\n",
    "event_size=len(ground_truth.axes[0])    #No of events described in ground truth\n",
    "start=ground_truth[' inicio'] *(10**9)  #starting time of every event\n",
    "end=ground_truth[' fim']*(10**9)        #end time for each event label\n",
    "                                        #Conversion from seconds to nanoseconds\n"
   ]
  },
  {
   "cell_type": "code",
   "execution_count": 69,
   "metadata": {},
   "outputs": [
    {
     "data": {
      "text/plain": [
       "0     6.500000e+09\n",
       "1     2.350000e+10\n",
       "2     3.350000e+10\n",
       "3     9.800000e+10\n",
       "4     2.515000e+11\n",
       "5     3.523000e+11\n",
       "6     4.890000e+11\n",
       "7     4.995000e+11\n",
       "8     5.900000e+11\n",
       "9     7.538000e+11\n",
       "10    8.440000e+11\n",
       "11    9.832000e+11\n",
       "12    1.090900e+12\n",
       "13    1.142000e+12\n",
       "14    1.202900e+12\n",
       "15    1.213500e+12\n",
       "Name:  fim, dtype: float64"
      ]
     },
     "execution_count": 69,
     "metadata": {},
     "output_type": "execute_result"
    }
   ],
   "source": [
    "def framing(a):\n",
    "    t=0\n",
    "    for i in range(event_size):\n",
    "        s=start[i]\n",
    "        e=end[i]\n",
    "        for j in range(t,n):\n",
    "            if(a[j]>=s):\n",
    "                window(a,i,6)\n",
    "                t=a[j]\n",
    "            else if(a[i]>e):\n",
    "                break\n",
    "            \n",
    "        \n",
    "\n",
    "        "
   ]
  },
  {
   "cell_type": "code",
   "execution_count": 48,
   "metadata": {},
   "outputs": [],
   "source": []
  }
 ],
 "metadata": {
  "kernelspec": {
   "display_name": "Python 3",
   "language": "python",
   "name": "python3"
  },
  "language_info": {
   "codemirror_mode": {
    "name": "ipython",
    "version": 3
   },
   "file_extension": ".py",
   "mimetype": "text/x-python",
   "name": "python",
   "nbconvert_exporter": "python",
   "pygments_lexer": "ipython3",
   "version": "3.6.6"
  }
 },
 "nbformat": 4,
 "nbformat_minor": 2
}
