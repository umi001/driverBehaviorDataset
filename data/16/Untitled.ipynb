{
 "cells": [
  {
   "cell_type": "code",
   "execution_count": 7,
   "metadata": {},
   "outputs": [],
   "source": [
    "import pandas as pd\n",
    "import numpy as np"
   ]
  },
  {
   "cell_type": "code",
   "execution_count": 8,
   "metadata": {},
   "outputs": [],
   "source": [
    "raw_data=pd.read_csv(\"aceleracaoLinear_terra.csv\",sep=\",\")\n"
   ]
  },
  {
   "cell_type": "code",
   "execution_count": 32,
   "metadata": {},
   "outputs": [
    {
     "data": {
      "text/html": [
       "<div>\n",
       "<style scoped>\n",
       "    .dataframe tbody tr th:only-of-type {\n",
       "        vertical-align: middle;\n",
       "    }\n",
       "\n",
       "    .dataframe tbody tr th {\n",
       "        vertical-align: top;\n",
       "    }\n",
       "\n",
       "    .dataframe thead th {\n",
       "        text-align: right;\n",
       "    }\n",
       "</style>\n",
       "<table border=\"1\" class=\"dataframe\">\n",
       "  <thead>\n",
       "    <tr style=\"text-align: right;\">\n",
       "      <th></th>\n",
       "      <th>uptimeNanos</th>\n",
       "      <th>x</th>\n",
       "      <th>y</th>\n",
       "      <th>z</th>\n",
       "    </tr>\n",
       "  </thead>\n",
       "  <tbody>\n",
       "    <tr>\n",
       "      <th>count</th>\n",
       "      <td>6.464500e+04</td>\n",
       "      <td>64645.000000</td>\n",
       "      <td>64645.000000</td>\n",
       "      <td>64645.000000</td>\n",
       "    </tr>\n",
       "    <tr>\n",
       "      <th>mean</th>\n",
       "      <td>1.217219e+13</td>\n",
       "      <td>0.001441</td>\n",
       "      <td>-0.005214</td>\n",
       "      <td>-0.081292</td>\n",
       "    </tr>\n",
       "    <tr>\n",
       "      <th>std</th>\n",
       "      <td>3.663693e+11</td>\n",
       "      <td>0.863282</td>\n",
       "      <td>0.838432</td>\n",
       "      <td>0.536945</td>\n",
       "    </tr>\n",
       "    <tr>\n",
       "      <th>min</th>\n",
       "      <td>1.153764e+13</td>\n",
       "      <td>-6.821630</td>\n",
       "      <td>-6.210632</td>\n",
       "      <td>-5.677019</td>\n",
       "    </tr>\n",
       "    <tr>\n",
       "      <th>25%</th>\n",
       "      <td>1.185490e+13</td>\n",
       "      <td>-0.458187</td>\n",
       "      <td>-0.450720</td>\n",
       "      <td>-0.318134</td>\n",
       "    </tr>\n",
       "    <tr>\n",
       "      <th>50%</th>\n",
       "      <td>1.217220e+13</td>\n",
       "      <td>-0.014632</td>\n",
       "      <td>-0.000370</td>\n",
       "      <td>-0.095094</td>\n",
       "    </tr>\n",
       "    <tr>\n",
       "      <th>75%</th>\n",
       "      <td>1.248947e+13</td>\n",
       "      <td>0.430904</td>\n",
       "      <td>0.456551</td>\n",
       "      <td>0.135446</td>\n",
       "    </tr>\n",
       "    <tr>\n",
       "      <th>max</th>\n",
       "      <td>1.280672e+13</td>\n",
       "      <td>7.366034</td>\n",
       "      <td>6.332817</td>\n",
       "      <td>10.306388</td>\n",
       "    </tr>\n",
       "  </tbody>\n",
       "</table>\n",
       "</div>"
      ],
      "text/plain": [
       "        uptimeNanos             x             y             z\n",
       "count  6.464500e+04  64645.000000  64645.000000  64645.000000\n",
       "mean   1.217219e+13      0.001441     -0.005214     -0.081292\n",
       "std    3.663693e+11      0.863282      0.838432      0.536945\n",
       "min    1.153764e+13     -6.821630     -6.210632     -5.677019\n",
       "25%    1.185490e+13     -0.458187     -0.450720     -0.318134\n",
       "50%    1.217220e+13     -0.014632     -0.000370     -0.095094\n",
       "75%    1.248947e+13      0.430904      0.456551      0.135446\n",
       "max    1.280672e+13      7.366034      6.332817     10.306388"
      ]
     },
     "execution_count": 32,
     "metadata": {},
     "output_type": "execute_result"
    }
   ],
   "source": [
    "raw_data.describe()"
   ]
  },
  {
   "cell_type": "code",
   "execution_count": 44,
   "metadata": {},
   "outputs": [],
   "source": [
    "n=len(raw_data.axes[0])   #finding no of readings"
   ]
  },
  {
   "cell_type": "code",
   "execution_count": 62,
   "metadata": {},
   "outputs": [],
   "source": [
    "ground_truth=pd.read_csv(\"groundTruth.csv\",sep=\",\") #reading the ground truth csv file\n",
    "#ground_truth.head()\n",
    "event_size=len(ground_truth.axes[0])    #No of events described in ground truth\n",
    "start=ground_truth[' inicio']     #starting time of every event\n",
    "end=ground_truth[' fim']"
   ]
  },
  {
   "cell_type": "code",
   "execution_count": 61,
   "metadata": {},
   "outputs": [
    {
     "data": {
      "text/plain": [
       "0        2.0\n",
       "1       19.5\n",
       "2       30.0\n",
       "3       95.0\n",
       "4      247.0\n",
       "5      348.7\n",
       "6      485.0\n",
       "7      496.0\n",
       "8      587.0\n",
       "9      750.0\n",
       "10     840.7\n",
       "11     980.0\n",
       "12    1087.4\n",
       "13    1139.8\n",
       "14    1201.0\n",
       "15    1211.4\n",
       "Name:  inicio, dtype: float64"
      ]
     },
     "execution_count": 61,
     "metadata": {},
     "output_type": "execute_result"
    }
   ],
   "source": [
    "for i in range(event_size):\n",
    "    s=start[i]\n",
    "    e=end[i]\n",
    "    "
   ]
  },
  {
   "cell_type": "code",
   "execution_count": 48,
   "metadata": {},
   "outputs": [],
   "source": []
  }
 ],
 "metadata": {
  "kernelspec": {
   "display_name": "Python 3",
   "language": "python",
   "name": "python3"
  },
  "language_info": {
   "codemirror_mode": {
    "name": "ipython",
    "version": 3
   },
   "file_extension": ".py",
   "mimetype": "text/x-python",
   "name": "python",
   "nbconvert_exporter": "python",
   "pygments_lexer": "ipython3",
   "version": "3.6.6"
  }
 },
 "nbformat": 4,
 "nbformat_minor": 2
}
